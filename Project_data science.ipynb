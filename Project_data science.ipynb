{
 "cells": [
  {
   "cell_type": "code",
   "execution_count": 1,
   "id": "58f1b294-5bc1-4fcd-8332-72112d42dd39",
   "metadata": {},
   "outputs": [],
   "source": [
    "#import required libraries\n",
    "import numpy as np\n",
    "import pandas as pd\n",
    "import matplotlib.pyplot as plt\n",
    "import seaborn as sns"
   ]
  },
  {
   "cell_type": "code",
   "execution_count": 2,
   "id": "4f49266f-2d01-4988-9ddd-b67a6d3d4419",
   "metadata": {},
   "outputs": [
    {
     "data": {
      "text/html": [
       "<div>\n",
       "<style scoped>\n",
       "    .dataframe tbody tr th:only-of-type {\n",
       "        vertical-align: middle;\n",
       "    }\n",
       "\n",
       "    .dataframe tbody tr th {\n",
       "        vertical-align: top;\n",
       "    }\n",
       "\n",
       "    .dataframe thead th {\n",
       "        text-align: right;\n",
       "    }\n",
       "</style>\n",
       "<table border=\"1\" class=\"dataframe\">\n",
       "  <thead>\n",
       "    <tr style=\"text-align: right;\">\n",
       "      <th></th>\n",
       "      <th>work_year</th>\n",
       "      <th>experience_level</th>\n",
       "      <th>employment_type</th>\n",
       "      <th>job_title</th>\n",
       "      <th>salary</th>\n",
       "      <th>salary_currency</th>\n",
       "      <th>salary_in_usd</th>\n",
       "      <th>employee_residence</th>\n",
       "      <th>remote_ratio</th>\n",
       "      <th>company_location</th>\n",
       "      <th>company_size</th>\n",
       "    </tr>\n",
       "  </thead>\n",
       "  <tbody>\n",
       "    <tr>\n",
       "      <th>0</th>\n",
       "      <td>2021</td>\n",
       "      <td>MI</td>\n",
       "      <td>FT</td>\n",
       "      <td>Data Scientist</td>\n",
       "      <td>30400000</td>\n",
       "      <td>CLP</td>\n",
       "      <td>40038</td>\n",
       "      <td>CL</td>\n",
       "      <td>100</td>\n",
       "      <td>CL</td>\n",
       "      <td>L</td>\n",
       "    </tr>\n",
       "    <tr>\n",
       "      <th>1</th>\n",
       "      <td>2021</td>\n",
       "      <td>MI</td>\n",
       "      <td>FT</td>\n",
       "      <td>BI Data Analyst</td>\n",
       "      <td>11000000</td>\n",
       "      <td>HUF</td>\n",
       "      <td>36259</td>\n",
       "      <td>HU</td>\n",
       "      <td>50</td>\n",
       "      <td>US</td>\n",
       "      <td>L</td>\n",
       "    </tr>\n",
       "    <tr>\n",
       "      <th>2</th>\n",
       "      <td>2020</td>\n",
       "      <td>MI</td>\n",
       "      <td>FT</td>\n",
       "      <td>Data Scientist</td>\n",
       "      <td>11000000</td>\n",
       "      <td>HUF</td>\n",
       "      <td>35735</td>\n",
       "      <td>HU</td>\n",
       "      <td>50</td>\n",
       "      <td>HU</td>\n",
       "      <td>L</td>\n",
       "    </tr>\n",
       "    <tr>\n",
       "      <th>3</th>\n",
       "      <td>2021</td>\n",
       "      <td>MI</td>\n",
       "      <td>FT</td>\n",
       "      <td>ML Engineer</td>\n",
       "      <td>8500000</td>\n",
       "      <td>JPY</td>\n",
       "      <td>77364</td>\n",
       "      <td>JP</td>\n",
       "      <td>50</td>\n",
       "      <td>JP</td>\n",
       "      <td>S</td>\n",
       "    </tr>\n",
       "    <tr>\n",
       "      <th>4</th>\n",
       "      <td>2022</td>\n",
       "      <td>SE</td>\n",
       "      <td>FT</td>\n",
       "      <td>Lead Machine Learning Engineer</td>\n",
       "      <td>7500000</td>\n",
       "      <td>INR</td>\n",
       "      <td>95386</td>\n",
       "      <td>IN</td>\n",
       "      <td>50</td>\n",
       "      <td>IN</td>\n",
       "      <td>L</td>\n",
       "    </tr>\n",
       "    <tr>\n",
       "      <th>...</th>\n",
       "      <td>...</td>\n",
       "      <td>...</td>\n",
       "      <td>...</td>\n",
       "      <td>...</td>\n",
       "      <td>...</td>\n",
       "      <td>...</td>\n",
       "      <td>...</td>\n",
       "      <td>...</td>\n",
       "      <td>...</td>\n",
       "      <td>...</td>\n",
       "      <td>...</td>\n",
       "    </tr>\n",
       "    <tr>\n",
       "      <th>14833</th>\n",
       "      <td>2022</td>\n",
       "      <td>MI</td>\n",
       "      <td>FT</td>\n",
       "      <td>Business Intelligence Developer</td>\n",
       "      <td>15000</td>\n",
       "      <td>USD</td>\n",
       "      <td>15000</td>\n",
       "      <td>GH</td>\n",
       "      <td>100</td>\n",
       "      <td>GH</td>\n",
       "      <td>M</td>\n",
       "    </tr>\n",
       "    <tr>\n",
       "      <th>14834</th>\n",
       "      <td>2020</td>\n",
       "      <td>EX</td>\n",
       "      <td>FT</td>\n",
       "      <td>Staff Data Analyst</td>\n",
       "      <td>15000</td>\n",
       "      <td>USD</td>\n",
       "      <td>15000</td>\n",
       "      <td>NG</td>\n",
       "      <td>0</td>\n",
       "      <td>CA</td>\n",
       "      <td>M</td>\n",
       "    </tr>\n",
       "    <tr>\n",
       "      <th>14835</th>\n",
       "      <td>2021</td>\n",
       "      <td>EN</td>\n",
       "      <td>FT</td>\n",
       "      <td>Machine Learning Developer</td>\n",
       "      <td>15000</td>\n",
       "      <td>USD</td>\n",
       "      <td>15000</td>\n",
       "      <td>TH</td>\n",
       "      <td>100</td>\n",
       "      <td>TH</td>\n",
       "      <td>L</td>\n",
       "    </tr>\n",
       "    <tr>\n",
       "      <th>14836</th>\n",
       "      <td>2022</td>\n",
       "      <td>EN</td>\n",
       "      <td>FT</td>\n",
       "      <td>Data Analyst</td>\n",
       "      <td>15000</td>\n",
       "      <td>USD</td>\n",
       "      <td>15000</td>\n",
       "      <td>ID</td>\n",
       "      <td>0</td>\n",
       "      <td>ID</td>\n",
       "      <td>L</td>\n",
       "    </tr>\n",
       "    <tr>\n",
       "      <th>14837</th>\n",
       "      <td>2020</td>\n",
       "      <td>EN</td>\n",
       "      <td>PT</td>\n",
       "      <td>ML Engineer</td>\n",
       "      <td>14000</td>\n",
       "      <td>EUR</td>\n",
       "      <td>15966</td>\n",
       "      <td>DE</td>\n",
       "      <td>100</td>\n",
       "      <td>DE</td>\n",
       "      <td>S</td>\n",
       "    </tr>\n",
       "  </tbody>\n",
       "</table>\n",
       "<p>14838 rows × 11 columns</p>\n",
       "</div>"
      ],
      "text/plain": [
       "       work_year experience_level employment_type  \\\n",
       "0           2021               MI              FT   \n",
       "1           2021               MI              FT   \n",
       "2           2020               MI              FT   \n",
       "3           2021               MI              FT   \n",
       "4           2022               SE              FT   \n",
       "...          ...              ...             ...   \n",
       "14833       2022               MI              FT   \n",
       "14834       2020               EX              FT   \n",
       "14835       2021               EN              FT   \n",
       "14836       2022               EN              FT   \n",
       "14837       2020               EN              PT   \n",
       "\n",
       "                             job_title    salary salary_currency  \\\n",
       "0                       Data Scientist  30400000             CLP   \n",
       "1                      BI Data Analyst  11000000             HUF   \n",
       "2                       Data Scientist  11000000             HUF   \n",
       "3                          ML Engineer   8500000             JPY   \n",
       "4       Lead Machine Learning Engineer   7500000             INR   \n",
       "...                                ...       ...             ...   \n",
       "14833  Business Intelligence Developer     15000             USD   \n",
       "14834               Staff Data Analyst     15000             USD   \n",
       "14835       Machine Learning Developer     15000             USD   \n",
       "14836                     Data Analyst     15000             USD   \n",
       "14837                      ML Engineer     14000             EUR   \n",
       "\n",
       "       salary_in_usd employee_residence  remote_ratio company_location  \\\n",
       "0              40038                 CL           100               CL   \n",
       "1              36259                 HU            50               US   \n",
       "2              35735                 HU            50               HU   \n",
       "3              77364                 JP            50               JP   \n",
       "4              95386                 IN            50               IN   \n",
       "...              ...                ...           ...              ...   \n",
       "14833          15000                 GH           100               GH   \n",
       "14834          15000                 NG             0               CA   \n",
       "14835          15000                 TH           100               TH   \n",
       "14836          15000                 ID             0               ID   \n",
       "14837          15966                 DE           100               DE   \n",
       "\n",
       "      company_size  \n",
       "0                L  \n",
       "1                L  \n",
       "2                L  \n",
       "3                S  \n",
       "4                L  \n",
       "...            ...  \n",
       "14833            M  \n",
       "14834            M  \n",
       "14835            L  \n",
       "14836            L  \n",
       "14837            S  \n",
       "\n",
       "[14838 rows x 11 columns]"
      ]
     },
     "execution_count": 2,
     "metadata": {},
     "output_type": "execute_result"
    }
   ],
   "source": [
    "#read data from csv file\n",
    "data=pd.read_csv(\"DataScience_salaries_2024.csv\")\n",
    "data"
   ]
  },
  {
   "cell_type": "code",
   "execution_count": 3,
   "id": "6a225eaa-a021-461a-b521-d0453432e30b",
   "metadata": {},
   "outputs": [
    {
     "data": {
      "text/plain": [
       "(14838, 11)"
      ]
     },
     "execution_count": 3,
     "metadata": {},
     "output_type": "execute_result"
    }
   ],
   "source": [
    "#define the shape of the dataset\n",
    "data.shape"
   ]
  },
  {
   "cell_type": "code",
   "execution_count": 4,
   "id": "13b7cf6d-746f-4fd4-8b12-a496333bf45e",
   "metadata": {},
   "outputs": [],
   "source": [
    "#Choose first 50 observations\n",
    "data1=data.head(50)"
   ]
  },
  {
   "cell_type": "code",
   "execution_count": 5,
   "id": "63933e8a-17f8-4559-9ae5-79660af09674",
   "metadata": {},
   "outputs": [
    {
     "data": {
      "text/plain": [
       "(50, 11)"
      ]
     },
     "execution_count": 5,
     "metadata": {},
     "output_type": "execute_result"
    }
   ],
   "source": [
    "data1.shape"
   ]
  },
  {
   "cell_type": "code",
   "execution_count": 6,
   "id": "a1aed42f-1bca-4933-833f-0f3967313659",
   "metadata": {},
   "outputs": [
    {
     "data": {
      "text/html": [
       "<div>\n",
       "<style scoped>\n",
       "    .dataframe tbody tr th:only-of-type {\n",
       "        vertical-align: middle;\n",
       "    }\n",
       "\n",
       "    .dataframe tbody tr th {\n",
       "        vertical-align: top;\n",
       "    }\n",
       "\n",
       "    .dataframe thead th {\n",
       "        text-align: right;\n",
       "    }\n",
       "</style>\n",
       "<table border=\"1\" class=\"dataframe\">\n",
       "  <thead>\n",
       "    <tr style=\"text-align: right;\">\n",
       "      <th></th>\n",
       "      <th>work_year</th>\n",
       "      <th>salary</th>\n",
       "      <th>salary_in_usd</th>\n",
       "      <th>remote_ratio</th>\n",
       "    </tr>\n",
       "  </thead>\n",
       "  <tbody>\n",
       "    <tr>\n",
       "      <th>count</th>\n",
       "      <td>50.000000</td>\n",
       "      <td>5.000000e+01</td>\n",
       "      <td>50.000000</td>\n",
       "      <td>50.000000</td>\n",
       "    </tr>\n",
       "    <tr>\n",
       "      <th>mean</th>\n",
       "      <td>2021.920000</td>\n",
       "      <td>4.234456e+06</td>\n",
       "      <td>47576.900000</td>\n",
       "      <td>62.000000</td>\n",
       "    </tr>\n",
       "    <tr>\n",
       "      <th>std</th>\n",
       "      <td>1.026983</td>\n",
       "      <td>4.428319e+06</td>\n",
       "      <td>56666.561511</td>\n",
       "      <td>34.345187</td>\n",
       "    </tr>\n",
       "    <tr>\n",
       "      <th>min</th>\n",
       "      <td>2020.000000</td>\n",
       "      <td>1.440000e+06</td>\n",
       "      <td>17511.000000</td>\n",
       "      <td>0.000000</td>\n",
       "    </tr>\n",
       "    <tr>\n",
       "      <th>25%</th>\n",
       "      <td>2021.000000</td>\n",
       "      <td>2.025000e+06</td>\n",
       "      <td>25159.250000</td>\n",
       "      <td>50.000000</td>\n",
       "    </tr>\n",
       "    <tr>\n",
       "      <th>50%</th>\n",
       "      <td>2022.000000</td>\n",
       "      <td>3.000000e+06</td>\n",
       "      <td>36371.000000</td>\n",
       "      <td>50.000000</td>\n",
       "    </tr>\n",
       "    <tr>\n",
       "      <th>75%</th>\n",
       "      <td>2023.000000</td>\n",
       "      <td>4.790000e+06</td>\n",
       "      <td>52223.000000</td>\n",
       "      <td>100.000000</td>\n",
       "    </tr>\n",
       "    <tr>\n",
       "      <th>max</th>\n",
       "      <td>2024.000000</td>\n",
       "      <td>3.040000e+07</td>\n",
       "      <td>417937.000000</td>\n",
       "      <td>100.000000</td>\n",
       "    </tr>\n",
       "  </tbody>\n",
       "</table>\n",
       "</div>"
      ],
      "text/plain": [
       "         work_year        salary  salary_in_usd  remote_ratio\n",
       "count    50.000000  5.000000e+01      50.000000     50.000000\n",
       "mean   2021.920000  4.234456e+06   47576.900000     62.000000\n",
       "std       1.026983  4.428319e+06   56666.561511     34.345187\n",
       "min    2020.000000  1.440000e+06   17511.000000      0.000000\n",
       "25%    2021.000000  2.025000e+06   25159.250000     50.000000\n",
       "50%    2022.000000  3.000000e+06   36371.000000     50.000000\n",
       "75%    2023.000000  4.790000e+06   52223.000000    100.000000\n",
       "max    2024.000000  3.040000e+07  417937.000000    100.000000"
      ]
     },
     "execution_count": 6,
     "metadata": {},
     "output_type": "execute_result"
    }
   ],
   "source": [
    "#describe in numrical data\n",
    "data1.describe()"
   ]
  },
  {
   "cell_type": "code",
   "execution_count": 7,
   "id": "f1b0addd-c483-4ed6-863c-68fb01ba49c0",
   "metadata": {},
   "outputs": [
    {
     "name": "stdout",
     "output_type": "stream",
     "text": [
      "Index(['work_year', 'experience_level', 'employment_type', 'job_title',\n",
      "       'salary', 'salary_currency', 'salary_in_usd', 'employee_residence',\n",
      "       'remote_ratio', 'company_location', 'company_size'],\n",
      "      dtype='object')\n"
     ]
    }
   ],
   "source": [
    "#Columns\n",
    "print(data1.columns)"
   ]
  },
  {
   "cell_type": "code",
   "execution_count": 8,
   "id": "f7916eba-a0a9-4ce0-b835-252c2a426070",
   "metadata": {},
   "outputs": [
    {
     "name": "stdout",
     "output_type": "stream",
     "text": [
      "0                         Data Scientist\n",
      "1                        BI Data Analyst\n",
      "2                         Data Scientist\n",
      "3                            ML Engineer\n",
      "4         Lead Machine Learning Engineer\n",
      "5                            ML Engineer\n",
      "6                   Data Science Manager\n",
      "7                         Data Scientist\n",
      "8               Head of Machine Learning\n",
      "9                      Research Engineer\n",
      "10                  Head of Data Science\n",
      "11                         AI Programmer\n",
      "12             Machine Learning Engineer\n",
      "13                   Lead Data Scientist\n",
      "14                         Data Engineer\n",
      "15                        Data Scientist\n",
      "16    Applied Machine Learning Scientist\n",
      "17                        Data Scientist\n",
      "18                  Data Science Manager\n",
      "19                  Data Science Manager\n",
      "20                     Lead Data Analyst\n",
      "21                  Data Science Manager\n",
      "22                Data Analytics Manager\n",
      "23           Data Integration Specialist\n",
      "24              Principal Data Architect\n",
      "25                   Lead Data Scientist\n",
      "26                        Data Scientist\n",
      "27                         Data Engineer\n",
      "28                          NLP Engineer\n",
      "29                        Data Scientist\n",
      "30                        Data Scientist\n",
      "31    Applied Machine Learning Scientist\n",
      "32                        Data Scientist\n",
      "33                     Big Data Engineer\n",
      "34                         Data Engineer\n",
      "35                        Data Scientist\n",
      "36                        Data Scientist\n",
      "37                  AI Research Engineer\n",
      "38    Machine Learning Software Engineer\n",
      "39                        Data Scientist\n",
      "40             Machine Learning Engineer\n",
      "41                          Data Analyst\n",
      "42                Applied Data Scientist\n",
      "43                     Big Data Engineer\n",
      "44             Machine Learning Engineer\n",
      "45                         Data Engineer\n",
      "46                          AI Scientist\n",
      "47                     Lead Data Analyst\n",
      "48                     Lead Data Analyst\n",
      "49                   Data Analytics Lead\n",
      "Name: job_title, dtype: object\n"
     ]
    }
   ],
   "source": [
    "#print the job title column \n",
    "print(data1[\"job_title\"])"
   ]
  },
  {
   "cell_type": "code",
   "execution_count": 9,
   "id": "5d7cf099-8af4-4e2e-8469-60e4c7622f48",
   "metadata": {},
   "outputs": [
    {
     "name": "stdout",
     "output_type": "stream",
     "text": [
      "{'FL': [31], 'FT': [0, 1, 2, 3, 4, 5, 6, 7, 8, 9, 10, 11, 12, 13, 14, 15, 16, 17, 18, 19, 20, 21, 22, 23, 24, 25, 26, 27, 28, 29, 30, 32, 33, 34, 35, 36, 37, 38, 39, 40, 41, 42, 43, 44, 45, 46, 47, 48, 49]}\n"
     ]
    }
   ],
   "source": [
    "#making groups according to the columns\n",
    "print(data1.groupby('employment_type').groups)"
   ]
  },
  {
   "cell_type": "code",
   "execution_count": 10,
   "id": "7504e50d-1109-4ca0-9f46-b4687ddb0262",
   "metadata": {},
   "outputs": [
    {
     "name": "stdout",
     "output_type": "stream",
     "text": [
      "{'CLP': [0], 'HUF': [1, 2, 7], 'ILS': [46], 'INR': [4, 6, 8, 10, 11, 12, 13, 15, 16, 17, 18, 19, 20, 21, 22, 23, 24, 25, 26, 27, 28, 29, 30, 31, 32, 33, 34, 35, 36, 37, 38, 39, 40, 41, 42, 43, 44, 45, 47, 48, 49], 'JPY': [3, 5, 9, 14]}\n"
     ]
    }
   ],
   "source": [
    "print(data1.groupby('salary_currency').groups)"
   ]
  },
  {
   "cell_type": "code",
   "execution_count": 11,
   "id": "176a7ae5-ae51-4197-94f0-c70ce3de1395",
   "metadata": {},
   "outputs": [
    {
     "name": "stdout",
     "output_type": "stream",
     "text": [
      "{'CL': [0], 'HU': [1, 2, 7], 'IL': [46], 'IN': [4, 6, 8, 10, 11, 12, 13, 15, 16, 17, 18, 19, 20, 21, 22, 23, 24, 25, 26, 27, 28, 29, 30, 31, 32, 33, 34, 35, 36, 37, 38, 39, 40, 41, 42, 43, 44, 45, 47, 48, 49], 'JP': [3, 5, 9, 14]}\n"
     ]
    }
   ],
   "source": [
    "print(data1.groupby('employee_residence').groups)"
   ]
  },
  {
   "cell_type": "code",
   "execution_count": 12,
   "id": "6e243ca2-1547-42b7-ae87-a99cd72928e8",
   "metadata": {},
   "outputs": [
    {
     "data": {
      "text/plain": [
       "remote_ratio\n",
       "50     24\n",
       "100    19\n",
       "0       7\n",
       "Name: count, dtype: int64"
      ]
     },
     "execution_count": 12,
     "metadata": {},
     "output_type": "execute_result"
    }
   ],
   "source": [
    "#count the observations\n",
    "data1.remote_ratio.value_counts()"
   ]
  },
  {
   "cell_type": "code",
   "execution_count": 13,
   "id": "d339cf12-5620-4327-8626-8e81e97429a8",
   "metadata": {},
   "outputs": [
    {
     "data": {
      "text/plain": [
       "company_location\n",
       "IN    35\n",
       "JP     4\n",
       "US     3\n",
       "HU     2\n",
       "CL     1\n",
       "ID     1\n",
       "DE     1\n",
       "CH     1\n",
       "IL     1\n",
       "SG     1\n",
       "Name: count, dtype: int64"
      ]
     },
     "execution_count": 13,
     "metadata": {},
     "output_type": "execute_result"
    }
   ],
   "source": [
    "data1.company_location.value_counts()"
   ]
  },
  {
   "cell_type": "code",
   "execution_count": 14,
   "id": "9bcb645a-44dd-4916-b5e3-edba167f2d4d",
   "metadata": {},
   "outputs": [
    {
     "data": {
      "text/html": [
       "<div>\n",
       "<style scoped>\n",
       "    .dataframe tbody tr th:only-of-type {\n",
       "        vertical-align: middle;\n",
       "    }\n",
       "\n",
       "    .dataframe tbody tr th {\n",
       "        vertical-align: top;\n",
       "    }\n",
       "\n",
       "    .dataframe thead th {\n",
       "        text-align: right;\n",
       "    }\n",
       "</style>\n",
       "<table border=\"1\" class=\"dataframe\">\n",
       "  <thead>\n",
       "    <tr style=\"text-align: right;\">\n",
       "      <th></th>\n",
       "      <th>count</th>\n",
       "    </tr>\n",
       "    <tr>\n",
       "      <th>work_year</th>\n",
       "      <th></th>\n",
       "    </tr>\n",
       "  </thead>\n",
       "  <tbody>\n",
       "    <tr>\n",
       "      <th>2021</th>\n",
       "      <td>17</td>\n",
       "    </tr>\n",
       "    <tr>\n",
       "      <th>2023</th>\n",
       "      <td>15</td>\n",
       "    </tr>\n",
       "    <tr>\n",
       "      <th>2022</th>\n",
       "      <td>13</td>\n",
       "    </tr>\n",
       "    <tr>\n",
       "      <th>2020</th>\n",
       "      <td>3</td>\n",
       "    </tr>\n",
       "    <tr>\n",
       "      <th>2024</th>\n",
       "      <td>2</td>\n",
       "    </tr>\n",
       "  </tbody>\n",
       "</table>\n",
       "</div>"
      ],
      "text/plain": [
       "           count\n",
       "work_year       \n",
       "2021          17\n",
       "2023          15\n",
       "2022          13\n",
       "2020           3\n",
       "2024           2"
      ]
     },
     "execution_count": 14,
     "metadata": {},
     "output_type": "execute_result"
    }
   ],
   "source": [
    "work_year_count=pd.DataFrame(data1['work_year'].value_counts())\n",
    "work_year_count"
   ]
  },
  {
   "cell_type": "code",
   "execution_count": 15,
   "id": "b115fa59-8f14-47cf-9105-7c1e7dfaa632",
   "metadata": {},
   "outputs": [
    {
     "name": "stdout",
     "output_type": "stream",
     "text": [
      "    work_year experience_level employment_type       job_title    salary  \\\n",
      "2        2020               MI              FT  Data Scientist  11000000   \n",
      "14       2020               EN              FT   Data Engineer   4450000   \n",
      "26       2020               MI              FT  Data Scientist   3000000   \n",
      "\n",
      "   salary_currency  salary_in_usd employee_residence  remote_ratio  \\\n",
      "2              HUF          35735                 HU            50   \n",
      "14             JPY          41689                 JP           100   \n",
      "26             INR          40481                 IN             0   \n",
      "\n",
      "   company_location company_size  \n",
      "2                HU            L  \n",
      "14               JP            S  \n",
      "26               IN            L  \n"
     ]
    }
   ],
   "source": [
    "#seggregate dataset in each year\n",
    "print(data1.groupby('work_year').get_group(2020))"
   ]
  },
  {
   "cell_type": "code",
   "execution_count": 16,
   "id": "6d5f1c11-c1a1-4f36-9186-f97e2366d8cf",
   "metadata": {},
   "outputs": [
    {
     "name": "stdout",
     "output_type": "stream",
     "text": [
      "    work_year experience_level employment_type                  job_title  \\\n",
      "0        2021               MI              FT             Data Scientist   \n",
      "1        2021               MI              FT            BI Data Analyst   \n",
      "3        2021               MI              FT                ML Engineer   \n",
      "5        2021               MI              FT                ML Engineer   \n",
      "6        2021               SE              FT       Data Science Manager   \n",
      "12       2021               SE              FT  Machine Learning Engineer   \n",
      "17       2021               SE              FT             Data Scientist   \n",
      "18       2021               SE              FT       Data Science Manager   \n",
      "25       2021               SE              FT        Lead Data Scientist   \n",
      "30       2021               MI              FT             Data Scientist   \n",
      "34       2021               EN              FT              Data Engineer   \n",
      "35       2021               EN              FT             Data Scientist   \n",
      "36       2021               EN              FT             Data Scientist   \n",
      "40       2021               SE              FT  Machine Learning Engineer   \n",
      "43       2021               MI              FT          Big Data Engineer   \n",
      "45       2021               EN              FT              Data Engineer   \n",
      "48       2021               MI              FT          Lead Data Analyst   \n",
      "\n",
      "      salary salary_currency  salary_in_usd employee_residence  remote_ratio  \\\n",
      "0   30400000             CLP          40038                 CL           100   \n",
      "1   11000000             HUF          36259                 HU            50   \n",
      "3    8500000             JPY          77364                 JP            50   \n",
      "5    7000000             JPY          63711                 JP            50   \n",
      "6    7000000             INR          94665                 IN            50   \n",
      "12   4900000             INR          66265                 IN             0   \n",
      "17   4000000             INR          54094                 IN           100   \n",
      "18   4000000             INR          54094                 IN            50   \n",
      "25   3000000             INR          40570                 IN            50   \n",
      "30   2500000             INR          33808                 IN             0   \n",
      "34   2250000             INR          30428                 IN           100   \n",
      "35   2200000             INR          29751                 IN            50   \n",
      "36   2100000             INR          28399                 IN           100   \n",
      "40   1799997             INR          24342                 IN           100   \n",
      "43   1672000             INR          22611                 IN             0   \n",
      "45   1600000             INR          21637                 IN            50   \n",
      "48   1450000             INR          19609                 IN           100   \n",
      "\n",
      "   company_location company_size  \n",
      "0                CL            L  \n",
      "1                US            L  \n",
      "3                JP            S  \n",
      "5                JP            S  \n",
      "6                IN            L  \n",
      "12               IN            L  \n",
      "17               IN            L  \n",
      "18               US            L  \n",
      "25               IN            L  \n",
      "30               IN            M  \n",
      "34               IN            L  \n",
      "35               IN            L  \n",
      "36               IN            M  \n",
      "40               IN            L  \n",
      "43               IN            L  \n",
      "45               IN            M  \n",
      "48               IN            L  \n"
     ]
    }
   ],
   "source": [
    "print(data1.groupby('work_year').get_group(2021))"
   ]
  },
  {
   "cell_type": "code",
   "execution_count": 17,
   "id": "209c4057-25c0-403b-854c-fe84e663b896",
   "metadata": {},
   "outputs": [
    {
     "name": "stdout",
     "output_type": "stream",
     "text": [
      "    work_year experience_level employment_type  \\\n",
      "4        2022               SE              FT   \n",
      "7        2022               EN              FT   \n",
      "8        2022               EX              FT   \n",
      "9        2022               EN              FT   \n",
      "13       2022               SE              FT   \n",
      "15       2022               MI              FT   \n",
      "24       2022               SE              FT   \n",
      "27       2022               MI              FT   \n",
      "29       2022               MI              FT   \n",
      "31       2022               MI              FL   \n",
      "32       2022               MI              FT   \n",
      "39       2022               EN              FT   \n",
      "44       2022               MI              FT   \n",
      "\n",
      "                             job_title   salary salary_currency  \\\n",
      "4       Lead Machine Learning Engineer  7500000             INR   \n",
      "7                       Data Scientist  6600000             HUF   \n",
      "8             Head of Machine Learning  6000000             INR   \n",
      "9                    Research Engineer  5500000             JPY   \n",
      "13                 Lead Data Scientist  4460000             INR   \n",
      "15                      Data Scientist  4200000             INR   \n",
      "24            Principal Data Architect  3000000             INR   \n",
      "27                       Data Engineer  2800000             INR   \n",
      "29                      Data Scientist  2500000             INR   \n",
      "31  Applied Machine Learning Scientist  2400000             INR   \n",
      "32                      Data Scientist  2400000             INR   \n",
      "39                      Data Scientist  1800000             INR   \n",
      "44           Machine Learning Engineer  1650000             INR   \n",
      "\n",
      "    salary_in_usd employee_residence  remote_ratio company_location  \\\n",
      "4           95386                 IN            50               IN   \n",
      "7           17684                 HU           100               HU   \n",
      "8           76309                 IN            50               IN   \n",
      "9           41809                 JP            50               JP   \n",
      "13          56723                 IN             0               IN   \n",
      "15          53416                 IN           100               ID   \n",
      "24          38154                 IN           100               IN   \n",
      "27          35610                 IN            50               IN   \n",
      "29          31795                 IN           100               US   \n",
      "31          30523                 IN           100               IN   \n",
      "32          30523                 IN           100               IN   \n",
      "39          22892                 IN            50               IN   \n",
      "44          20984                 IN            50               IN   \n",
      "\n",
      "   company_size  \n",
      "4             L  \n",
      "7             M  \n",
      "8             L  \n",
      "9             L  \n",
      "13            L  \n",
      "15            L  \n",
      "24            L  \n",
      "27            L  \n",
      "29            M  \n",
      "31            S  \n",
      "32            L  \n",
      "39            M  \n",
      "44            L  \n"
     ]
    }
   ],
   "source": [
    "print(data1.groupby('work_year').get_group(2022))"
   ]
  },
  {
   "cell_type": "code",
   "execution_count": 18,
   "id": "444e78ec-b6d6-4397-81c0-0c9b7c577d2e",
   "metadata": {},
   "outputs": [
    {
     "name": "stdout",
     "output_type": "stream",
     "text": [
      "    work_year experience_level employment_type  \\\n",
      "10       2023               MI              FT   \n",
      "11       2023               EN              FT   \n",
      "16       2023               EN              FT   \n",
      "19       2023               SE              FT   \n",
      "21       2023               MI              FT   \n",
      "22       2023               MI              FT   \n",
      "23       2023               SE              FT   \n",
      "28       2023               MI              FT   \n",
      "37       2023               EN              FT   \n",
      "38       2023               MI              FT   \n",
      "41       2023               EN              FT   \n",
      "42       2023               MI              FT   \n",
      "46       2023               SE              FT   \n",
      "47       2023               MI              FT   \n",
      "49       2023               MI              FT   \n",
      "\n",
      "                             job_title   salary salary_currency  \\\n",
      "10                Head of Data Science  5000000             INR   \n",
      "11                       AI Programmer  4950806             INR   \n",
      "16  Applied Machine Learning Scientist  4000000             INR   \n",
      "19                Data Science Manager  3600000             INR   \n",
      "21                Data Science Manager  3200000             INR   \n",
      "22              Data Analytics Manager  3200000             INR   \n",
      "23         Data Integration Specialist  3000000             INR   \n",
      "28                        NLP Engineer  2700000             INR   \n",
      "37                AI Research Engineer  2000000             INR   \n",
      "38  Machine Learning Software Engineer  2000000             INR   \n",
      "41                        Data Analyst  1700000             INR   \n",
      "42              Applied Data Scientist  1700000             INR   \n",
      "46                        AI Scientist  1500000             ILS   \n",
      "47                   Lead Data Analyst  1500000             INR   \n",
      "49                 Data Analytics Lead  1440000             INR   \n",
      "\n",
      "    salary_in_usd employee_residence  remote_ratio company_location  \\\n",
      "10          60805                 IN            50               IN   \n",
      "11          60207                 IN             0               IN   \n",
      "16          48644                 IN           100               DE   \n",
      "19          43779                 IN           100               IN   \n",
      "21          38915                 IN            50               IN   \n",
      "22          38915                 IN            50               IN   \n",
      "23          36483                 IN            50               IN   \n",
      "28          32834                 IN           100               IN   \n",
      "37          24322                 IN           100               CH   \n",
      "38          24322                 IN            50               IN   \n",
      "41          20673                 IN            50               IN   \n",
      "42          20673                 IN           100               IN   \n",
      "46         417937                 IL             0               IL   \n",
      "47          18241                 IN            50               IN   \n",
      "49          17511                 IN            50               SG   \n",
      "\n",
      "   company_size  \n",
      "10            L  \n",
      "11            S  \n",
      "16            L  \n",
      "19            L  \n",
      "21            L  \n",
      "22            M  \n",
      "23            L  \n",
      "28            M  \n",
      "37            L  \n",
      "38            L  \n",
      "41            L  \n",
      "42            L  \n",
      "46            L  \n",
      "47            L  \n",
      "49            M  \n"
     ]
    }
   ],
   "source": [
    "print(data1.groupby('work_year').get_group(2023))"
   ]
  },
  {
   "cell_type": "code",
   "execution_count": 19,
   "id": "ac4f6333-1d91-4e9e-8652-5ee0d532a013",
   "metadata": {},
   "outputs": [
    {
     "name": "stdout",
     "output_type": "stream",
     "text": [
      "    work_year experience_level employment_type          job_title   salary  \\\n",
      "20       2024               MI              FT  Lead Data Analyst  3300000   \n",
      "33       2024               MI              FT  Big Data Engineer  2300000   \n",
      "\n",
      "   salary_currency  salary_in_usd employee_residence  remote_ratio  \\\n",
      "20             INR          39615                 IN            50   \n",
      "33             INR          27611                 IN           100   \n",
      "\n",
      "   company_location company_size  \n",
      "20               IN            L  \n",
      "33               IN            L  \n"
     ]
    }
   ],
   "source": [
    "print(data1.groupby('work_year').get_group(2024))"
   ]
  },
  {
   "cell_type": "code",
   "execution_count": 20,
   "id": "02266de1-a000-4788-914f-bb872212c82b",
   "metadata": {},
   "outputs": [
    {
     "name": "stdout",
     "output_type": "stream",
     "text": [
      "    work_year experience_level employment_type      job_title   salary  \\\n",
      "11       2023               EN              FT  AI Programmer  4950806   \n",
      "\n",
      "   salary_currency  salary_in_usd employee_residence  remote_ratio  \\\n",
      "11             INR          60207                 IN             0   \n",
      "\n",
      "   company_location company_size  \n",
      "11               IN            S  \n"
     ]
    }
   ],
   "source": [
    "#seggregate each job title\n",
    "print(data1.groupby('job_title').get_group('AI Programmer'))"
   ]
  },
  {
   "cell_type": "code",
   "execution_count": 21,
   "id": "111f5669-df3b-4f63-a66e-e92a15b29b68",
   "metadata": {},
   "outputs": [
    {
     "name": "stdout",
     "output_type": "stream",
     "text": [
      "    work_year experience_level employment_type             job_title   salary  \\\n",
      "37       2023               EN              FT  AI Research Engineer  2000000   \n",
      "\n",
      "   salary_currency  salary_in_usd employee_residence  remote_ratio  \\\n",
      "37             INR          24322                 IN           100   \n",
      "\n",
      "   company_location company_size  \n",
      "37               CH            L  \n"
     ]
    }
   ],
   "source": [
    "print(data1.groupby('job_title').get_group('AI Research Engineer'))"
   ]
  },
  {
   "cell_type": "code",
   "execution_count": 22,
   "id": "dcf581cb-72ac-4767-b80d-3e771112ef8e",
   "metadata": {},
   "outputs": [
    {
     "name": "stdout",
     "output_type": "stream",
     "text": [
      "    work_year experience_level employment_type     job_title   salary  \\\n",
      "46       2023               SE              FT  AI Scientist  1500000   \n",
      "\n",
      "   salary_currency  salary_in_usd employee_residence  remote_ratio  \\\n",
      "46             ILS         417937                 IL             0   \n",
      "\n",
      "   company_location company_size  \n",
      "46               IL            L  \n"
     ]
    }
   ],
   "source": [
    "print(data1.groupby('job_title').get_group('AI Scientist'))"
   ]
  },
  {
   "cell_type": "code",
   "execution_count": 23,
   "id": "a3bb50dd-7ce9-4ab7-9093-2269c4fe0ca8",
   "metadata": {},
   "outputs": [
    {
     "name": "stdout",
     "output_type": "stream",
     "text": [
      "    work_year experience_level employment_type               job_title  \\\n",
      "42       2023               MI              FT  Applied Data Scientist   \n",
      "\n",
      "     salary salary_currency  salary_in_usd employee_residence  remote_ratio  \\\n",
      "42  1700000             INR          20673                 IN           100   \n",
      "\n",
      "   company_location company_size  \n",
      "42               IN            L  \n"
     ]
    }
   ],
   "source": [
    "print(data1.groupby('job_title').get_group('Applied Data Scientist'))"
   ]
  },
  {
   "cell_type": "code",
   "execution_count": 24,
   "id": "578c6d05-4108-447e-8b37-e63a888b05e6",
   "metadata": {},
   "outputs": [
    {
     "name": "stdout",
     "output_type": "stream",
     "text": [
      "    work_year experience_level employment_type  \\\n",
      "16       2023               EN              FT   \n",
      "31       2022               MI              FL   \n",
      "\n",
      "                             job_title   salary salary_currency  \\\n",
      "16  Applied Machine Learning Scientist  4000000             INR   \n",
      "31  Applied Machine Learning Scientist  2400000             INR   \n",
      "\n",
      "    salary_in_usd employee_residence  remote_ratio company_location  \\\n",
      "16          48644                 IN           100               DE   \n",
      "31          30523                 IN           100               IN   \n",
      "\n",
      "   company_size  \n",
      "16            L  \n",
      "31            S  \n"
     ]
    }
   ],
   "source": [
    "print(data1.groupby('job_title').get_group(\"Applied Machine Learning Scientist\"))"
   ]
  },
  {
   "cell_type": "code",
   "execution_count": 25,
   "id": "e6dfbf1c-19db-45d7-8724-f0e6dfd47c7f",
   "metadata": {},
   "outputs": [
    {
     "name": "stdout",
     "output_type": "stream",
     "text": [
      "   work_year experience_level employment_type        job_title    salary  \\\n",
      "1       2021               MI              FT  BI Data Analyst  11000000   \n",
      "\n",
      "  salary_currency  salary_in_usd employee_residence  remote_ratio  \\\n",
      "1             HUF          36259                 HU            50   \n",
      "\n",
      "  company_location company_size  \n",
      "1               US            L  \n"
     ]
    }
   ],
   "source": [
    "print(data1.groupby('job_title').get_group('BI Data Analyst'))"
   ]
  },
  {
   "cell_type": "code",
   "execution_count": 26,
   "id": "3ad8987e-8e9f-425d-b7f3-2f45b5b6e560",
   "metadata": {},
   "outputs": [
    {
     "name": "stdout",
     "output_type": "stream",
     "text": [
      "    work_year experience_level employment_type          job_title   salary  \\\n",
      "33       2024               MI              FT  Big Data Engineer  2300000   \n",
      "43       2021               MI              FT  Big Data Engineer  1672000   \n",
      "\n",
      "   salary_currency  salary_in_usd employee_residence  remote_ratio  \\\n",
      "33             INR          27611                 IN           100   \n",
      "43             INR          22611                 IN             0   \n",
      "\n",
      "   company_location company_size  \n",
      "33               IN            L  \n",
      "43               IN            L  \n"
     ]
    }
   ],
   "source": [
    "print(data1.groupby('job_title').get_group('Big Data Engineer'))"
   ]
  },
  {
   "cell_type": "code",
   "execution_count": 27,
   "id": "e8115dd6-e702-4ce3-a7f4-69dafd50bdda",
   "metadata": {},
   "outputs": [
    {
     "name": "stdout",
     "output_type": "stream",
     "text": [
      "    work_year experience_level employment_type     job_title   salary  \\\n",
      "41       2023               EN              FT  Data Analyst  1700000   \n",
      "\n",
      "   salary_currency  salary_in_usd employee_residence  remote_ratio  \\\n",
      "41             INR          20673                 IN            50   \n",
      "\n",
      "   company_location company_size  \n",
      "41               IN            L  \n"
     ]
    }
   ],
   "source": [
    "print(data1.groupby('job_title').get_group('Data Analyst'))"
   ]
  },
  {
   "cell_type": "code",
   "execution_count": 28,
   "id": "c43103cb-e175-4835-b035-a286fe8af218",
   "metadata": {},
   "outputs": [
    {
     "name": "stdout",
     "output_type": "stream",
     "text": [
      "    work_year experience_level employment_type            job_title   salary  \\\n",
      "49       2023               MI              FT  Data Analytics Lead  1440000   \n",
      "\n",
      "   salary_currency  salary_in_usd employee_residence  remote_ratio  \\\n",
      "49             INR          17511                 IN            50   \n",
      "\n",
      "   company_location company_size  \n",
      "49               SG            M  \n"
     ]
    }
   ],
   "source": [
    "print(data1.groupby('job_title').get_group('Data Analytics Lead'))"
   ]
  },
  {
   "cell_type": "code",
   "execution_count": 29,
   "id": "e704b47c-6fe6-4e05-b95e-e410546d809f",
   "metadata": {},
   "outputs": [
    {
     "name": "stdout",
     "output_type": "stream",
     "text": [
      "    work_year experience_level employment_type               job_title  \\\n",
      "22       2023               MI              FT  Data Analytics Manager   \n",
      "\n",
      "     salary salary_currency  salary_in_usd employee_residence  remote_ratio  \\\n",
      "22  3200000             INR          38915                 IN            50   \n",
      "\n",
      "   company_location company_size  \n",
      "22               IN            M  \n"
     ]
    }
   ],
   "source": [
    "print(data1.groupby('job_title').get_group('Data Analytics Manager'))"
   ]
  },
  {
   "cell_type": "code",
   "execution_count": 30,
   "id": "d10a33bb-0e33-48b9-955b-511342a7beab",
   "metadata": {},
   "outputs": [
    {
     "name": "stdout",
     "output_type": "stream",
     "text": [
      "    work_year experience_level employment_type      job_title   salary  \\\n",
      "14       2020               EN              FT  Data Engineer  4450000   \n",
      "27       2022               MI              FT  Data Engineer  2800000   \n",
      "34       2021               EN              FT  Data Engineer  2250000   \n",
      "45       2021               EN              FT  Data Engineer  1600000   \n",
      "\n",
      "   salary_currency  salary_in_usd employee_residence  remote_ratio  \\\n",
      "14             JPY          41689                 JP           100   \n",
      "27             INR          35610                 IN            50   \n",
      "34             INR          30428                 IN           100   \n",
      "45             INR          21637                 IN            50   \n",
      "\n",
      "   company_location company_size  \n",
      "14               JP            S  \n",
      "27               IN            L  \n",
      "34               IN            L  \n",
      "45               IN            M  \n"
     ]
    }
   ],
   "source": [
    "print(data1.groupby('job_title').get_group('Data Engineer'))"
   ]
  },
  {
   "cell_type": "code",
   "execution_count": 31,
   "id": "106542d1-a742-4d3b-b1c5-600448914b7c",
   "metadata": {},
   "outputs": [
    {
     "name": "stdout",
     "output_type": "stream",
     "text": [
      "    work_year experience_level employment_type                    job_title  \\\n",
      "23       2023               SE              FT  Data Integration Specialist   \n",
      "\n",
      "     salary salary_currency  salary_in_usd employee_residence  remote_ratio  \\\n",
      "23  3000000             INR          36483                 IN            50   \n",
      "\n",
      "   company_location company_size  \n",
      "23               IN            L  \n"
     ]
    }
   ],
   "source": [
    "print(data1.groupby('job_title').get_group('Data Integration Specialist'))"
   ]
  },
  {
   "cell_type": "code",
   "execution_count": 32,
   "id": "0d8d7317-66ab-4fc1-a6c0-2d8f338188d3",
   "metadata": {},
   "outputs": [
    {
     "name": "stdout",
     "output_type": "stream",
     "text": [
      "    work_year experience_level employment_type             job_title   salary  \\\n",
      "6        2021               SE              FT  Data Science Manager  7000000   \n",
      "18       2021               SE              FT  Data Science Manager  4000000   \n",
      "19       2023               SE              FT  Data Science Manager  3600000   \n",
      "21       2023               MI              FT  Data Science Manager  3200000   \n",
      "\n",
      "   salary_currency  salary_in_usd employee_residence  remote_ratio  \\\n",
      "6              INR          94665                 IN            50   \n",
      "18             INR          54094                 IN            50   \n",
      "19             INR          43779                 IN           100   \n",
      "21             INR          38915                 IN            50   \n",
      "\n",
      "   company_location company_size  \n",
      "6                IN            L  \n",
      "18               US            L  \n",
      "19               IN            L  \n",
      "21               IN            L  \n"
     ]
    }
   ],
   "source": [
    "print(data1.groupby('job_title').get_group('Data Science Manager'))"
   ]
  },
  {
   "cell_type": "code",
   "execution_count": 33,
   "id": "921544ee-e0f8-44fe-82ed-4ab5f55a71a6",
   "metadata": {},
   "outputs": [
    {
     "name": "stdout",
     "output_type": "stream",
     "text": [
      "    work_year experience_level employment_type       job_title    salary  \\\n",
      "0        2021               MI              FT  Data Scientist  30400000   \n",
      "2        2020               MI              FT  Data Scientist  11000000   \n",
      "7        2022               EN              FT  Data Scientist   6600000   \n",
      "15       2022               MI              FT  Data Scientist   4200000   \n",
      "17       2021               SE              FT  Data Scientist   4000000   \n",
      "26       2020               MI              FT  Data Scientist   3000000   \n",
      "29       2022               MI              FT  Data Scientist   2500000   \n",
      "30       2021               MI              FT  Data Scientist   2500000   \n",
      "32       2022               MI              FT  Data Scientist   2400000   \n",
      "35       2021               EN              FT  Data Scientist   2200000   \n",
      "36       2021               EN              FT  Data Scientist   2100000   \n",
      "39       2022               EN              FT  Data Scientist   1800000   \n",
      "\n",
      "   salary_currency  salary_in_usd employee_residence  remote_ratio  \\\n",
      "0              CLP          40038                 CL           100   \n",
      "2              HUF          35735                 HU            50   \n",
      "7              HUF          17684                 HU           100   \n",
      "15             INR          53416                 IN           100   \n",
      "17             INR          54094                 IN           100   \n",
      "26             INR          40481                 IN             0   \n",
      "29             INR          31795                 IN           100   \n",
      "30             INR          33808                 IN             0   \n",
      "32             INR          30523                 IN           100   \n",
      "35             INR          29751                 IN            50   \n",
      "36             INR          28399                 IN           100   \n",
      "39             INR          22892                 IN            50   \n",
      "\n",
      "   company_location company_size  \n",
      "0                CL            L  \n",
      "2                HU            L  \n",
      "7                HU            M  \n",
      "15               ID            L  \n",
      "17               IN            L  \n",
      "26               IN            L  \n",
      "29               US            M  \n",
      "30               IN            M  \n",
      "32               IN            L  \n",
      "35               IN            L  \n",
      "36               IN            M  \n",
      "39               IN            M  \n"
     ]
    }
   ],
   "source": [
    "print(data1.groupby('job_title').get_group('Data Scientist'))"
   ]
  },
  {
   "cell_type": "code",
   "execution_count": 34,
   "id": "b4e0f18c-9e99-4e5c-8041-0f5784a1a195",
   "metadata": {},
   "outputs": [
    {
     "name": "stdout",
     "output_type": "stream",
     "text": [
      "    work_year experience_level employment_type             job_title   salary  \\\n",
      "10       2023               MI              FT  Head of Data Science  5000000   \n",
      "\n",
      "   salary_currency  salary_in_usd employee_residence  remote_ratio  \\\n",
      "10             INR          60805                 IN            50   \n",
      "\n",
      "   company_location company_size  \n",
      "10               IN            L  \n"
     ]
    }
   ],
   "source": [
    "print(data1.groupby('job_title').get_group('Head of Data Science'))"
   ]
  },
  {
   "cell_type": "code",
   "execution_count": 35,
   "id": "bc253b9e-ba9d-4c54-b1d5-0218f7a7af37",
   "metadata": {},
   "outputs": [
    {
     "name": "stdout",
     "output_type": "stream",
     "text": [
      "   work_year experience_level employment_type                 job_title  \\\n",
      "8       2022               EX              FT  Head of Machine Learning   \n",
      "\n",
      "    salary salary_currency  salary_in_usd employee_residence  remote_ratio  \\\n",
      "8  6000000             INR          76309                 IN            50   \n",
      "\n",
      "  company_location company_size  \n",
      "8               IN            L  \n"
     ]
    }
   ],
   "source": [
    "print(data1.groupby('job_title').get_group('Head of Machine Learning'))"
   ]
  },
  {
   "cell_type": "code",
   "execution_count": 36,
   "id": "c9179e29-fa4d-49f8-88f9-685f4dd98610",
   "metadata": {},
   "outputs": [
    {
     "name": "stdout",
     "output_type": "stream",
     "text": [
      "    work_year experience_level employment_type          job_title   salary  \\\n",
      "20       2024               MI              FT  Lead Data Analyst  3300000   \n",
      "47       2023               MI              FT  Lead Data Analyst  1500000   \n",
      "48       2021               MI              FT  Lead Data Analyst  1450000   \n",
      "\n",
      "   salary_currency  salary_in_usd employee_residence  remote_ratio  \\\n",
      "20             INR          39615                 IN            50   \n",
      "47             INR          18241                 IN            50   \n",
      "48             INR          19609                 IN           100   \n",
      "\n",
      "   company_location company_size  \n",
      "20               IN            L  \n",
      "47               IN            L  \n",
      "48               IN            L  \n"
     ]
    }
   ],
   "source": [
    "print(data1.groupby('job_title').get_group('Lead Data Analyst'))"
   ]
  },
  {
   "cell_type": "code",
   "execution_count": 37,
   "id": "78eb226c-8a3e-4725-9aef-97494dfca3c6",
   "metadata": {},
   "outputs": [
    {
     "name": "stdout",
     "output_type": "stream",
     "text": [
      "    work_year experience_level employment_type            job_title   salary  \\\n",
      "13       2022               SE              FT  Lead Data Scientist  4460000   \n",
      "25       2021               SE              FT  Lead Data Scientist  3000000   \n",
      "\n",
      "   salary_currency  salary_in_usd employee_residence  remote_ratio  \\\n",
      "13             INR          56723                 IN             0   \n",
      "25             INR          40570                 IN            50   \n",
      "\n",
      "   company_location company_size  \n",
      "13               IN            L  \n",
      "25               IN            L  \n"
     ]
    }
   ],
   "source": [
    "print(data1.groupby('job_title').get_group('Lead Data Scientist'))"
   ]
  },
  {
   "cell_type": "code",
   "execution_count": 38,
   "id": "4138b671-57f6-43d1-b2e2-afad7c84ce7d",
   "metadata": {},
   "outputs": [
    {
     "name": "stdout",
     "output_type": "stream",
     "text": [
      "   work_year experience_level employment_type                       job_title  \\\n",
      "4       2022               SE              FT  Lead Machine Learning Engineer   \n",
      "\n",
      "    salary salary_currency  salary_in_usd employee_residence  remote_ratio  \\\n",
      "4  7500000             INR          95386                 IN            50   \n",
      "\n",
      "  company_location company_size  \n",
      "4               IN            L  \n"
     ]
    }
   ],
   "source": [
    "print(data1.groupby('job_title').get_group('Lead Machine Learning Engineer'))"
   ]
  },
  {
   "cell_type": "code",
   "execution_count": 39,
   "id": "e97ed34b-d05e-47d7-a6e5-0e4ef76f21c4",
   "metadata": {},
   "outputs": [
    {
     "name": "stdout",
     "output_type": "stream",
     "text": [
      "   work_year experience_level employment_type    job_title   salary  \\\n",
      "3       2021               MI              FT  ML Engineer  8500000   \n",
      "5       2021               MI              FT  ML Engineer  7000000   \n",
      "\n",
      "  salary_currency  salary_in_usd employee_residence  remote_ratio  \\\n",
      "3             JPY          77364                 JP            50   \n",
      "5             JPY          63711                 JP            50   \n",
      "\n",
      "  company_location company_size  \n",
      "3               JP            S  \n",
      "5               JP            S  \n"
     ]
    }
   ],
   "source": [
    "print(data1.groupby('job_title').get_group('ML Engineer'))"
   ]
  },
  {
   "cell_type": "code",
   "execution_count": 40,
   "id": "a54ccbbb-1f00-4388-a66d-ad4eb11a658d",
   "metadata": {},
   "outputs": [
    {
     "name": "stdout",
     "output_type": "stream",
     "text": [
      "    work_year experience_level employment_type                  job_title  \\\n",
      "12       2021               SE              FT  Machine Learning Engineer   \n",
      "40       2021               SE              FT  Machine Learning Engineer   \n",
      "44       2022               MI              FT  Machine Learning Engineer   \n",
      "\n",
      "     salary salary_currency  salary_in_usd employee_residence  remote_ratio  \\\n",
      "12  4900000             INR          66265                 IN             0   \n",
      "40  1799997             INR          24342                 IN           100   \n",
      "44  1650000             INR          20984                 IN            50   \n",
      "\n",
      "   company_location company_size  \n",
      "12               IN            L  \n",
      "40               IN            L  \n",
      "44               IN            L  \n"
     ]
    }
   ],
   "source": [
    "print(data1.groupby('job_title').get_group('Machine Learning Engineer'))"
   ]
  },
  {
   "cell_type": "code",
   "execution_count": 41,
   "id": "6dced11b-2140-46d1-9ea7-301b48486e6c",
   "metadata": {},
   "outputs": [
    {
     "name": "stdout",
     "output_type": "stream",
     "text": [
      "    work_year experience_level employment_type                  job_title  \\\n",
      "12       2021               SE              FT  Machine Learning Engineer   \n",
      "40       2021               SE              FT  Machine Learning Engineer   \n",
      "44       2022               MI              FT  Machine Learning Engineer   \n",
      "\n",
      "     salary salary_currency  salary_in_usd employee_residence  remote_ratio  \\\n",
      "12  4900000             INR          66265                 IN             0   \n",
      "40  1799997             INR          24342                 IN           100   \n",
      "44  1650000             INR          20984                 IN            50   \n",
      "\n",
      "   company_location company_size  \n",
      "12               IN            L  \n",
      "40               IN            L  \n",
      "44               IN            L  \n"
     ]
    }
   ],
   "source": [
    "print(data1.groupby('job_title').get_group('Machine Learning Engineer'))"
   ]
  },
  {
   "cell_type": "code",
   "execution_count": 42,
   "id": "ef4b3d63-18c4-4003-ac86-576d3d326823",
   "metadata": {},
   "outputs": [
    {
     "name": "stdout",
     "output_type": "stream",
     "text": [
      "    work_year experience_level employment_type     job_title   salary  \\\n",
      "28       2023               MI              FT  NLP Engineer  2700000   \n",
      "\n",
      "   salary_currency  salary_in_usd employee_residence  remote_ratio  \\\n",
      "28             INR          32834                 IN           100   \n",
      "\n",
      "   company_location company_size  \n",
      "28               IN            M  \n"
     ]
    }
   ],
   "source": [
    "print(data1.groupby('job_title').get_group('NLP Engineer'))"
   ]
  },
  {
   "cell_type": "code",
   "execution_count": 43,
   "id": "212927cc-c86f-4f7b-88c1-c3c8d50f7e85",
   "metadata": {},
   "outputs": [
    {
     "name": "stdout",
     "output_type": "stream",
     "text": [
      "    work_year experience_level employment_type                 job_title  \\\n",
      "24       2022               SE              FT  Principal Data Architect   \n",
      "\n",
      "     salary salary_currency  salary_in_usd employee_residence  remote_ratio  \\\n",
      "24  3000000             INR          38154                 IN           100   \n",
      "\n",
      "   company_location company_size  \n",
      "24               IN            L  \n"
     ]
    }
   ],
   "source": [
    "print(data1.groupby('job_title').get_group('Principal Data Architect'))"
   ]
  },
  {
   "cell_type": "code",
   "execution_count": 44,
   "id": "a20285c2-aca8-4781-b5a7-db39cb8381bd",
   "metadata": {},
   "outputs": [
    {
     "name": "stdout",
     "output_type": "stream",
     "text": [
      "   work_year experience_level employment_type          job_title   salary  \\\n",
      "9       2022               EN              FT  Research Engineer  5500000   \n",
      "\n",
      "  salary_currency  salary_in_usd employee_residence  remote_ratio  \\\n",
      "9             JPY          41809                 JP            50   \n",
      "\n",
      "  company_location company_size  \n",
      "9               JP            L  \n"
     ]
    }
   ],
   "source": [
    "print(data1.groupby('job_title').get_group('Research Engineer'))"
   ]
  },
  {
   "cell_type": "code",
   "execution_count": 45,
   "id": "f74c0567-7501-47c2-a8df-33e8484e656c",
   "metadata": {},
   "outputs": [
    {
     "name": "stdout",
     "output_type": "stream",
     "text": [
      "{1440000: [49], 1450000: [48], 1500000: [46, 47], 1600000: [45], 1650000: [44], 1672000: [43], 1700000: [41, 42], 1799997: [40], 1800000: [39], 2000000: [37, 38], 2100000: [36], 2200000: [35], 2250000: [34], 2300000: [33], 2400000: [31, 32], 2500000: [29, 30], 2700000: [28], 2800000: [27], 3000000: [23, 24, 25, 26], 3200000: [21, 22], 3300000: [20], 3600000: [19], 4000000: [16, 17, 18], 4200000: [15], 4450000: [14], 4460000: [13], 4900000: [12], 4950806: [11], 5000000: [10], 5500000: [9], 6000000: [8], 6600000: [7], 7000000: [5, 6], 7500000: [4], 8500000: [3], 11000000: [1, 2], 30400000: [0]}\n"
     ]
    }
   ],
   "source": [
    "print(data1.groupby('salary').groups)"
   ]
  },
  {
   "cell_type": "code",
   "execution_count": 46,
   "id": "4d120c1a-c1a9-44c7-bdd6-41443b013585",
   "metadata": {},
   "outputs": [
    {
     "name": "stdout",
     "output_type": "stream",
     "text": [
      "Empty DataFrame\n",
      "Columns: [work_year, experience_level, employment_type, job_title, salary, salary_currency, salary_in_usd, employee_residence, remote_ratio, company_location, company_size]\n",
      "Index: []\n"
     ]
    }
   ],
   "source": [
    "#salary is less than 10l\n",
    "print(data1[data1[\"salary\"]<1000000])"
   ]
  },
  {
   "cell_type": "code",
   "execution_count": 47,
   "id": "b7b7106f-7727-46fc-b3c5-2c02a7e24e66",
   "metadata": {},
   "outputs": [
    {
     "name": "stdout",
     "output_type": "stream",
     "text": [
      "   work_year experience_level employment_type                       job_title  \\\n",
      "0       2021               MI              FT                  Data Scientist   \n",
      "1       2021               MI              FT                 BI Data Analyst   \n",
      "2       2020               MI              FT                  Data Scientist   \n",
      "3       2021               MI              FT                     ML Engineer   \n",
      "4       2022               SE              FT  Lead Machine Learning Engineer   \n",
      "5       2021               MI              FT                     ML Engineer   \n",
      "6       2021               SE              FT            Data Science Manager   \n",
      "7       2022               EN              FT                  Data Scientist   \n",
      "8       2022               EX              FT        Head of Machine Learning   \n",
      "9       2022               EN              FT               Research Engineer   \n",
      "\n",
      "     salary salary_currency  salary_in_usd employee_residence  remote_ratio  \\\n",
      "0  30400000             CLP          40038                 CL           100   \n",
      "1  11000000             HUF          36259                 HU            50   \n",
      "2  11000000             HUF          35735                 HU            50   \n",
      "3   8500000             JPY          77364                 JP            50   \n",
      "4   7500000             INR          95386                 IN            50   \n",
      "5   7000000             JPY          63711                 JP            50   \n",
      "6   7000000             INR          94665                 IN            50   \n",
      "7   6600000             HUF          17684                 HU           100   \n",
      "8   6000000             INR          76309                 IN            50   \n",
      "9   5500000             JPY          41809                 JP            50   \n",
      "\n",
      "  company_location company_size  \n",
      "0               CL            L  \n",
      "1               US            L  \n",
      "2               HU            L  \n",
      "3               JP            S  \n",
      "4               IN            L  \n",
      "5               JP            S  \n",
      "6               IN            L  \n",
      "7               HU            M  \n",
      "8               IN            L  \n",
      "9               JP            L  \n"
     ]
    }
   ],
   "source": [
    "#salary is greater than 50L\n",
    "print(data1[data1[\"salary\"]>5000000])"
   ]
  },
  {
   "cell_type": "code",
   "execution_count": 48,
   "id": "6fd98ae1-4db1-44cc-97e7-4304807fbb17",
   "metadata": {},
   "outputs": [
    {
     "name": "stdout",
     "output_type": "stream",
     "text": [
      "211722803\n"
     ]
    }
   ],
   "source": [
    "#sum of salary\n",
    "print(data1[\"salary\"].sum())"
   ]
  },
  {
   "cell_type": "code",
   "execution_count": 49,
   "id": "a52fa43f-c750-464e-ba8b-5e50efb22a76",
   "metadata": {},
   "outputs": [
    {
     "name": "stdout",
     "output_type": "stream",
     "text": [
      "4234456.06\n"
     ]
    }
   ],
   "source": [
    "#mean of salary\n",
    "print(data1[\"salary\"].mean())"
   ]
  },
  {
   "cell_type": "code",
   "execution_count": 50,
   "id": "39f51e1b-a0c8-4c66-9d78-fe04334d5926",
   "metadata": {},
   "outputs": [
    {
     "name": "stdout",
     "output_type": "stream",
     "text": [
      "2021 Data Scientist = 30400000\n",
      "2021 BI Data Analyst = 11000000\n",
      "2020 Data Scientist = 11000000\n",
      "2021 ML Engineer = 8500000\n",
      "2022 Lead Machine Learning Engineer = 7500000\n",
      "2021 ML Engineer = 7000000\n",
      "2021 Data Science Manager = 7000000\n",
      "2022 Data Scientist = 6600000\n",
      "2022 Head of Machine Learning = 6000000\n",
      "2022 Research Engineer = 5500000\n",
      "2023 Head of Data Science = 5000000\n",
      "2023 AI Programmer = 4950806\n",
      "2021 Machine Learning Engineer = 4900000\n",
      "2022 Lead Data Scientist = 4460000\n",
      "2020 Data Engineer = 4450000\n",
      "2022 Data Scientist = 4200000\n",
      "2023 Applied Machine Learning Scientist = 4000000\n",
      "2021 Data Scientist = 4000000\n",
      "2021 Data Science Manager = 4000000\n",
      "2023 Data Science Manager = 3600000\n",
      "2024 Lead Data Analyst = 3300000\n",
      "2023 Data Science Manager = 3200000\n",
      "2023 Data Analytics Manager = 3200000\n",
      "2023 Data Integration Specialist = 3000000\n",
      "2022 Principal Data Architect = 3000000\n",
      "2021 Lead Data Scientist = 3000000\n",
      "2020 Data Scientist = 3000000\n",
      "2022 Data Engineer = 2800000\n",
      "2023 NLP Engineer = 2700000\n",
      "2022 Data Scientist = 2500000\n",
      "2021 Data Scientist = 2500000\n",
      "2022 Applied Machine Learning Scientist = 2400000\n",
      "2022 Data Scientist = 2400000\n",
      "2024 Big Data Engineer = 2300000\n",
      "2021 Data Engineer = 2250000\n",
      "2021 Data Scientist = 2200000\n",
      "2021 Data Scientist = 2100000\n",
      "2023 AI Research Engineer = 2000000\n",
      "2023 Machine Learning Software Engineer = 2000000\n",
      "2022 Data Scientist = 1800000\n",
      "2021 Machine Learning Engineer = 1799997\n",
      "2023 Data Analyst = 1700000\n",
      "2023 Applied Data Scientist = 1700000\n",
      "2021 Big Data Engineer = 1672000\n",
      "2022 Machine Learning Engineer = 1650000\n",
      "2021 Data Engineer = 1600000\n",
      "2023 AI Scientist = 1500000\n",
      "2023 Lead Data Analyst = 1500000\n",
      "2021 Lead Data Analyst = 1450000\n",
      "2023 Data Analytics Lead = 1440000\n"
     ]
    }
   ],
   "source": [
    "#iterate the data \n",
    "import pandas as pd \n",
    "for index,row in data1.iterrows(): \n",
    "    print(row['work_year'],row['job_title'],'=',row['salary'])"
   ]
  },
  {
   "cell_type": "code",
   "execution_count": 51,
   "id": "772d33a0-4eeb-47a0-be9b-2cece04ef4a7",
   "metadata": {},
   "outputs": [
    {
     "data": {
      "text/html": [
       "<div>\n",
       "<style scoped>\n",
       "    .dataframe tbody tr th:only-of-type {\n",
       "        vertical-align: middle;\n",
       "    }\n",
       "\n",
       "    .dataframe tbody tr th {\n",
       "        vertical-align: top;\n",
       "    }\n",
       "\n",
       "    .dataframe thead th {\n",
       "        text-align: right;\n",
       "    }\n",
       "</style>\n",
       "<table border=\"1\" class=\"dataframe\">\n",
       "  <thead>\n",
       "    <tr style=\"text-align: right;\">\n",
       "      <th></th>\n",
       "      <th>count</th>\n",
       "    </tr>\n",
       "    <tr>\n",
       "      <th>job_title</th>\n",
       "      <th></th>\n",
       "    </tr>\n",
       "  </thead>\n",
       "  <tbody>\n",
       "    <tr>\n",
       "      <th>Data Scientist</th>\n",
       "      <td>12</td>\n",
       "    </tr>\n",
       "    <tr>\n",
       "      <th>Data Science Manager</th>\n",
       "      <td>4</td>\n",
       "    </tr>\n",
       "    <tr>\n",
       "      <th>Data Engineer</th>\n",
       "      <td>4</td>\n",
       "    </tr>\n",
       "    <tr>\n",
       "      <th>Machine Learning Engineer</th>\n",
       "      <td>3</td>\n",
       "    </tr>\n",
       "    <tr>\n",
       "      <th>Lead Data Analyst</th>\n",
       "      <td>3</td>\n",
       "    </tr>\n",
       "    <tr>\n",
       "      <th>Big Data Engineer</th>\n",
       "      <td>2</td>\n",
       "    </tr>\n",
       "    <tr>\n",
       "      <th>Lead Data Scientist</th>\n",
       "      <td>2</td>\n",
       "    </tr>\n",
       "    <tr>\n",
       "      <th>Applied Machine Learning Scientist</th>\n",
       "      <td>2</td>\n",
       "    </tr>\n",
       "    <tr>\n",
       "      <th>ML Engineer</th>\n",
       "      <td>2</td>\n",
       "    </tr>\n",
       "    <tr>\n",
       "      <th>AI Programmer</th>\n",
       "      <td>1</td>\n",
       "    </tr>\n",
       "    <tr>\n",
       "      <th>NLP Engineer</th>\n",
       "      <td>1</td>\n",
       "    </tr>\n",
       "    <tr>\n",
       "      <th>AI Scientist</th>\n",
       "      <td>1</td>\n",
       "    </tr>\n",
       "    <tr>\n",
       "      <th>Applied Data Scientist</th>\n",
       "      <td>1</td>\n",
       "    </tr>\n",
       "    <tr>\n",
       "      <th>Data Analyst</th>\n",
       "      <td>1</td>\n",
       "    </tr>\n",
       "    <tr>\n",
       "      <th>Machine Learning Software Engineer</th>\n",
       "      <td>1</td>\n",
       "    </tr>\n",
       "    <tr>\n",
       "      <th>AI Research Engineer</th>\n",
       "      <td>1</td>\n",
       "    </tr>\n",
       "    <tr>\n",
       "      <th>Principal Data Architect</th>\n",
       "      <td>1</td>\n",
       "    </tr>\n",
       "    <tr>\n",
       "      <th>Head of Data Science</th>\n",
       "      <td>1</td>\n",
       "    </tr>\n",
       "    <tr>\n",
       "      <th>Data Integration Specialist</th>\n",
       "      <td>1</td>\n",
       "    </tr>\n",
       "    <tr>\n",
       "      <th>Data Analytics Manager</th>\n",
       "      <td>1</td>\n",
       "    </tr>\n",
       "    <tr>\n",
       "      <th>Lead Machine Learning Engineer</th>\n",
       "      <td>1</td>\n",
       "    </tr>\n",
       "    <tr>\n",
       "      <th>BI Data Analyst</th>\n",
       "      <td>1</td>\n",
       "    </tr>\n",
       "    <tr>\n",
       "      <th>Head of Machine Learning</th>\n",
       "      <td>1</td>\n",
       "    </tr>\n",
       "    <tr>\n",
       "      <th>Research Engineer</th>\n",
       "      <td>1</td>\n",
       "    </tr>\n",
       "    <tr>\n",
       "      <th>Data Analytics Lead</th>\n",
       "      <td>1</td>\n",
       "    </tr>\n",
       "  </tbody>\n",
       "</table>\n",
       "</div>"
      ],
      "text/plain": [
       "                                    count\n",
       "job_title                                \n",
       "Data Scientist                         12\n",
       "Data Science Manager                    4\n",
       "Data Engineer                           4\n",
       "Machine Learning Engineer               3\n",
       "Lead Data Analyst                       3\n",
       "Big Data Engineer                       2\n",
       "Lead Data Scientist                     2\n",
       "Applied Machine Learning Scientist      2\n",
       "ML Engineer                             2\n",
       "AI Programmer                           1\n",
       "NLP Engineer                            1\n",
       "AI Scientist                            1\n",
       "Applied Data Scientist                  1\n",
       "Data Analyst                            1\n",
       "Machine Learning Software Engineer      1\n",
       "AI Research Engineer                    1\n",
       "Principal Data Architect                1\n",
       "Head of Data Science                    1\n",
       "Data Integration Specialist             1\n",
       "Data Analytics Manager                  1\n",
       "Lead Machine Learning Engineer          1\n",
       "BI Data Analyst                         1\n",
       "Head of Machine Learning                1\n",
       "Research Engineer                       1\n",
       "Data Analytics Lead                     1"
      ]
     },
     "execution_count": 51,
     "metadata": {},
     "output_type": "execute_result"
    }
   ],
   "source": [
    "job_title_count=pd.DataFrame(data1['job_title'].value_counts())\n",
    "job_title_count"
   ]
  },
  {
   "cell_type": "code",
   "execution_count": 50,
   "id": "03a93d24-b418-42d2-8e5e-950e2833aee3",
   "metadata": {},
   "outputs": [
    {
     "data": {
      "text/plain": [
       "<Axes: xlabel='job_title'>"
      ]
     },
     "execution_count": 50,
     "metadata": {},
     "output_type": "execute_result"
    },
    {
     "data": {
      "image/png": "[encoded data removed]",
      "text/plain": [
       "<Figure size 640x480 with 1 Axes>"
      ]
     },
     "metadata": {},
     "output_type": "display_data"
    }
   ],
   "source": [
    "#bar plot \n",
    "data1[\"job_title\"].value_counts().head(50).plot(kind=\"bar\")"
   ]
  },
  {
   "cell_type": "code",
   "execution_count": 52,
   "id": "d9ec89e8-6f3c-4524-9a7d-6a8aeb496b0e",
   "metadata": {},
   "outputs": [
    {
     "name": "stdout",
     "output_type": "stream",
     "text": [
      "    work_year experience_level employment_type  \\\n",
      "3        2021               MI              FT   \n",
      "5        2021               MI              FT   \n",
      "11       2023               EN              FT   \n",
      "14       2020               EN              FT   \n",
      "31       2022               MI              FL   \n",
      "\n",
      "                             job_title   salary salary_currency  \\\n",
      "3                          ML Engineer  8500000             JPY   \n",
      "5                          ML Engineer  7000000             JPY   \n",
      "11                       AI Programmer  4950806             INR   \n",
      "14                       Data Engineer  4450000             JPY   \n",
      "31  Applied Machine Learning Scientist  2400000             INR   \n",
      "\n",
      "    salary_in_usd employee_residence  remote_ratio company_location  \\\n",
      "3           77364                 JP            50               JP   \n",
      "5           63711                 JP            50               JP   \n",
      "11          60207                 IN             0               IN   \n",
      "14          41689                 JP           100               JP   \n",
      "31          30523                 IN           100               IN   \n",
      "\n",
      "   company_size  \n",
      "3             S  \n",
      "5             S  \n",
      "11            S  \n",
      "14            S  \n",
      "31            S  \n"
     ]
    }
   ],
   "source": [
    "#data in company_size wise\n",
    "print(data1.groupby('company_size').get_group('S'))"
   ]
  },
  {
   "cell_type": "code",
   "execution_count": 53,
   "id": "ed2c5341-9ffc-46d3-aae7-8c6e847c2260",
   "metadata": {},
   "outputs": [
    {
     "name": "stdout",
     "output_type": "stream",
     "text": [
      "    work_year experience_level employment_type               job_title  \\\n",
      "7        2022               EN              FT          Data Scientist   \n",
      "22       2023               MI              FT  Data Analytics Manager   \n",
      "28       2023               MI              FT            NLP Engineer   \n",
      "29       2022               MI              FT          Data Scientist   \n",
      "30       2021               MI              FT          Data Scientist   \n",
      "36       2021               EN              FT          Data Scientist   \n",
      "39       2022               EN              FT          Data Scientist   \n",
      "45       2021               EN              FT           Data Engineer   \n",
      "49       2023               MI              FT     Data Analytics Lead   \n",
      "\n",
      "     salary salary_currency  salary_in_usd employee_residence  remote_ratio  \\\n",
      "7   6600000             HUF          17684                 HU           100   \n",
      "22  3200000             INR          38915                 IN            50   \n",
      "28  2700000             INR          32834                 IN           100   \n",
      "29  2500000             INR          31795                 IN           100   \n",
      "30  2500000             INR          33808                 IN             0   \n",
      "36  2100000             INR          28399                 IN           100   \n",
      "39  1800000             INR          22892                 IN            50   \n",
      "45  1600000             INR          21637                 IN            50   \n",
      "49  1440000             INR          17511                 IN            50   \n",
      "\n",
      "   company_location company_size  \n",
      "7                HU            M  \n",
      "22               IN            M  \n",
      "28               IN            M  \n",
      "29               US            M  \n",
      "30               IN            M  \n",
      "36               IN            M  \n",
      "39               IN            M  \n",
      "45               IN            M  \n",
      "49               SG            M  \n"
     ]
    }
   ],
   "source": [
    "print(data1.groupby('company_size').get_group('M'))"
   ]
  },
  {
   "cell_type": "code",
   "execution_count": 54,
   "id": "7ff20ba9-7757-4a17-b805-efdd30452a3b",
   "metadata": {},
   "outputs": [
    {
     "name": "stdout",
     "output_type": "stream",
     "text": [
      "    work_year experience_level employment_type  \\\n",
      "0        2021               MI              FT   \n",
      "1        2021               MI              FT   \n",
      "2        2020               MI              FT   \n",
      "4        2022               SE              FT   \n",
      "6        2021               SE              FT   \n",
      "8        2022               EX              FT   \n",
      "9        2022               EN              FT   \n",
      "10       2023               MI              FT   \n",
      "12       2021               SE              FT   \n",
      "13       2022               SE              FT   \n",
      "15       2022               MI              FT   \n",
      "16       2023               EN              FT   \n",
      "17       2021               SE              FT   \n",
      "18       2021               SE              FT   \n",
      "19       2023               SE              FT   \n",
      "20       2024               MI              FT   \n",
      "21       2023               MI              FT   \n",
      "23       2023               SE              FT   \n",
      "24       2022               SE              FT   \n",
      "25       2021               SE              FT   \n",
      "26       2020               MI              FT   \n",
      "27       2022               MI              FT   \n",
      "32       2022               MI              FT   \n",
      "33       2024               MI              FT   \n",
      "34       2021               EN              FT   \n",
      "35       2021               EN              FT   \n",
      "37       2023               EN              FT   \n",
      "38       2023               MI              FT   \n",
      "40       2021               SE              FT   \n",
      "41       2023               EN              FT   \n",
      "42       2023               MI              FT   \n",
      "43       2021               MI              FT   \n",
      "44       2022               MI              FT   \n",
      "46       2023               SE              FT   \n",
      "47       2023               MI              FT   \n",
      "48       2021               MI              FT   \n",
      "\n",
      "                             job_title    salary salary_currency  \\\n",
      "0                       Data Scientist  30400000             CLP   \n",
      "1                      BI Data Analyst  11000000             HUF   \n",
      "2                       Data Scientist  11000000             HUF   \n",
      "4       Lead Machine Learning Engineer   7500000             INR   \n",
      "6                 Data Science Manager   7000000             INR   \n",
      "8             Head of Machine Learning   6000000             INR   \n",
      "9                    Research Engineer   5500000             JPY   \n",
      "10                Head of Data Science   5000000             INR   \n",
      "12           Machine Learning Engineer   4900000             INR   \n",
      "13                 Lead Data Scientist   4460000             INR   \n",
      "15                      Data Scientist   4200000             INR   \n",
      "16  Applied Machine Learning Scientist   4000000             INR   \n",
      "17                      Data Scientist   4000000             INR   \n",
      "18                Data Science Manager   4000000             INR   \n",
      "19                Data Science Manager   3600000             INR   \n",
      "20                   Lead Data Analyst   3300000             INR   \n",
      "21                Data Science Manager   3200000             INR   \n",
      "23         Data Integration Specialist   3000000             INR   \n",
      "24            Principal Data Architect   3000000             INR   \n",
      "25                 Lead Data Scientist   3000000             INR   \n",
      "26                      Data Scientist   3000000             INR   \n",
      "27                       Data Engineer   2800000             INR   \n",
      "32                      Data Scientist   2400000             INR   \n",
      "33                   Big Data Engineer   2300000             INR   \n",
      "34                       Data Engineer   2250000             INR   \n",
      "35                      Data Scientist   2200000             INR   \n",
      "37                AI Research Engineer   2000000             INR   \n",
      "38  Machine Learning Software Engineer   2000000             INR   \n",
      "40           Machine Learning Engineer   1799997             INR   \n",
      "41                        Data Analyst   1700000             INR   \n",
      "42              Applied Data Scientist   1700000             INR   \n",
      "43                   Big Data Engineer   1672000             INR   \n",
      "44           Machine Learning Engineer   1650000             INR   \n",
      "46                        AI Scientist   1500000             ILS   \n",
      "47                   Lead Data Analyst   1500000             INR   \n",
      "48                   Lead Data Analyst   1450000             INR   \n",
      "\n",
      "    salary_in_usd employee_residence  remote_ratio company_location  \\\n",
      "0           40038                 CL           100               CL   \n",
      "1           36259                 HU            50               US   \n",
      "2           35735                 HU            50               HU   \n",
      "4           95386                 IN            50               IN   \n",
      "6           94665                 IN            50               IN   \n",
      "8           76309                 IN            50               IN   \n",
      "9           41809                 JP            50               JP   \n",
      "10          60805                 IN            50               IN   \n",
      "12          66265                 IN             0               IN   \n",
      "13          56723                 IN             0               IN   \n",
      "15          53416                 IN           100               ID   \n",
      "16          48644                 IN           100               DE   \n",
      "17          54094                 IN           100               IN   \n",
      "18          54094                 IN            50               US   \n",
      "19          43779                 IN           100               IN   \n",
      "20          39615                 IN            50               IN   \n",
      "21          38915                 IN            50               IN   \n",
      "23          36483                 IN            50               IN   \n",
      "24          38154                 IN           100               IN   \n",
      "25          40570                 IN            50               IN   \n",
      "26          40481                 IN             0               IN   \n",
      "27          35610                 IN            50               IN   \n",
      "32          30523                 IN           100               IN   \n",
      "33          27611                 IN           100               IN   \n",
      "34          30428                 IN           100               IN   \n",
      "35          29751                 IN            50               IN   \n",
      "37          24322                 IN           100               CH   \n",
      "38          24322                 IN            50               IN   \n",
      "40          24342                 IN           100               IN   \n",
      "41          20673                 IN            50               IN   \n",
      "42          20673                 IN           100               IN   \n",
      "43          22611                 IN             0               IN   \n",
      "44          20984                 IN            50               IN   \n",
      "46         417937                 IL             0               IL   \n",
      "47          18241                 IN            50               IN   \n",
      "48          19609                 IN           100               IN   \n",
      "\n",
      "   company_size  \n",
      "0             L  \n",
      "1             L  \n",
      "2             L  \n",
      "4             L  \n",
      "6             L  \n",
      "8             L  \n",
      "9             L  \n",
      "10            L  \n",
      "12            L  \n",
      "13            L  \n",
      "15            L  \n",
      "16            L  \n",
      "17            L  \n",
      "18            L  \n",
      "19            L  \n",
      "20            L  \n",
      "21            L  \n",
      "23            L  \n",
      "24            L  \n",
      "25            L  \n",
      "26            L  \n",
      "27            L  \n",
      "32            L  \n",
      "33            L  \n",
      "34            L  \n",
      "35            L  \n",
      "37            L  \n",
      "38            L  \n",
      "40            L  \n",
      "41            L  \n",
      "42            L  \n",
      "43            L  \n",
      "44            L  \n",
      "46            L  \n",
      "47            L  \n",
      "48            L  \n"
     ]
    }
   ],
   "source": [
    "print(data1.groupby('company_size').get_group('L'))"
   ]
  },
  {
   "cell_type": "code",
   "execution_count": 55,
   "id": "e272ee6b-b716-49bc-83b6-8ff9ad5ccb8c",
   "metadata": {},
   "outputs": [
    {
     "data": {
      "image/png": "[encoded data removed]",
      "text/plain": [
       "<Figure size 640x480 with 1 Axes>"
      ]
     },
     "metadata": {},
     "output_type": "display_data"
    }
   ],
   "source": [
    "#scatter plot\n",
    "plt.scatter(data1.work_year,data1.salary_in_usd)\n",
    "plt.xlabel(\"Years\")\n",
    "plt.ylabel(\"Salary\")\n",
    "plt.title(\"Salary in USD\")\n",
    "plt.show()"
   ]
  },
  {
   "cell_type": "code",
   "execution_count": 56,
   "id": "8b0bd624-9488-4613-9068-f7351fb70dad",
   "metadata": {},
   "outputs": [
    {
     "data": {
      "image/png": "[encoded data removed]",
      "text/plain": [
       "<Figure size 1500x3000 with 1 Axes>"
      ]
     },
     "metadata": {},
     "output_type": "display_data"
    }
   ],
   "source": [
    "#searborn\n",
    "sns.set_style('whitegrid')\n",
    "sns.set_context('talk')\n",
    "\n",
    "plt.figure(figsize=(15,30))\n",
    "plt.rcParams[\"axes.labelsize\"] = 20\n",
    "plt.rcParams['axes.titlesize'] = 22\n",
    "plt.rcParams['axes.titlepad'] = 30\n",
    "plt.xticks(rotation=90)\n",
    "plt.title('Datascience salaries 2020-2024')\n",
    "ax = sns.countplot(data = data, y= 'experience_level', \n",
    "                   order=data['experience_level'].value_counts().index,hue = 'work_year',palette='magma')"
   ]
  },
  {
   "cell_type": "code",
   "execution_count": 57,
   "id": "1ac89b8d-b0da-4a0d-987d-e3abb5113f6f",
   "metadata": {},
   "outputs": [
    {
     "data": {
      "text/plain": [
       "<Axes: xlabel='job_title', ylabel='work_year'>"
      ]
     },
     "execution_count": 57,
     "metadata": {},
     "output_type": "execute_result"
    },
    {
     "data": {
      "image/png": "[encoded data removed]",
      "text/plain": [
       "<Figure size 640x480 with 2 Axes>"
      ]
     },
     "metadata": {},
     "output_type": "display_data"
    }
   ],
   "source": [
    "#heatmap\n",
    "map1=data1.pivot_table(index=\"work_year\",columns=\"job_title\",values=\"salary\")\n",
    "sns.heatmap(map1,linewidths=0.5)"
   ]
  },
  {
   "cell_type": "code",
   "execution_count": null,
   "id": "373b194c-0eb8-4336-a5e7-cfc2b35c1f9f",
   "metadata": {},
   "outputs": [],
   "source": []
  }
 ],
 "metadata": {
  "kernelspec": {
   "display_name": "Python 3 (ipykernel)",
   "language": "python",
   "name": "python3"
  },
  "language_info": {
   "codemirror_mode": {
    "name": "ipython",
    "version": 3
   },
   "file_extension": ".py",
   "mimetype": "text/x-python",
   "name": "python",
   "nbconvert_exporter": "python",
   "pygments_lexer": "ipython3",
   "version": "3.12.3"
  }
 },
 "nbformat": 4,
 "nbformat_minor": 5
}
